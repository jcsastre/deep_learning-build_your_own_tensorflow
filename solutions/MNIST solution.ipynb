{
 "cells": [
  {
   "cell_type": "markdown",
   "metadata": {},
   "source": [
    "# MNIST Solution\n",
    "\n",
    "Sample MNIST solution using a 1-layer neural network."
   ]
  },
  {
   "cell_type": "code",
   "execution_count": null,
   "metadata": {
    "collapsed": true
   },
   "outputs": [],
   "source": [
    "# Sample Solution for MNIST using miniflow.py\n",
    "\n",
    "# weights initialization\n",
    "W = 0.01 * np.random.randn(784,10)\n",
    "b = np.zeros((1,10))\n",
    "\n",
    "# architecture\n",
    "X_in = Input()\n",
    "W_in = Input()\n",
    "b_in = Input()\n",
    "y_in = Input()\n",
    "f = Linear(X_in, W_in, b_in)\n",
    "f = CrossEntropyWithSoftmax(f, y_in)\n",
    "\n",
    "step_size = 1e-2\n",
    "batch_size = 128\n",
    "for i in range(10000):\n",
    "    X_batch, y_batch = mnist.train.next_batch(batch_size)\n",
    "    y_batch = y_batch.astype(np.int8)\n",
    "    feed_dict = {X_in: X_batch, y_in: y_batch, W_in: W, b_in: b}\n",
    "    loss, grad = value_and_grad(f, feed_dict, [W_in, b_in])\n",
    "\n",
    "    if i % 1000 == 0:\n",
    "        print(\"Iteration {}\".format(i))\n",
    "        print(\"Loss = {}\".format(loss))\n",
    "        acc = accuracy(f, {X_in: X_val, y_in: y_val, W_in: W, b_in: b})\n",
    "        print(\"Validation Accuracy = {}\".format(acc))\n",
    "        print('----------------')\n",
    "\n",
    "    # SGD\n",
    "    dW, db = grad\n",
    "    W -= step_size * dW\n",
    "    b -= step_size * db\n",
    "\n",
    "acc = accuracy(f, {X_in: X_test, y_in: y_test, W_in: W, b_in: b})\n",
    "print('----------------')\n",
    "print(\"Testing Accuracy = {}\".format(acc))"
   ]
  }
 ],
 "metadata": {
  "kernelspec": {
   "display_name": "Python 3",
   "language": "python",
   "name": "python3"
  },
  "language_info": {
   "codemirror_mode": {
    "name": "ipython",
    "version": 3
   },
   "file_extension": ".py",
   "mimetype": "text/x-python",
   "name": "python",
   "nbconvert_exporter": "python",
   "pygments_lexer": "ipython3",
   "version": "3.5.2"
  }
 },
 "nbformat": 4,
 "nbformat_minor": 1
}
