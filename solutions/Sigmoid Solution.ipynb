{
 "cells": [
  {
   "cell_type": "markdown",
   "metadata": {},
   "source": [
    "# Sigmoid Solution"
   ]
  },
  {
   "cell_type": "code",
   "execution_count": null,
   "metadata": {
    "collapsed": true
   },
   "outputs": [],
   "source": [
    "class Sigmoid(Node):\n",
    "    def __init__(self, x):\n",
    "        Node.__init__(self, [x])\n",
    "\n",
    "    def _sigmoid(self, x):\n",
    "        return 1.0 / (1.0 + np.exp(-x))\n",
    "\n",
    "    def forward(self):\n",
    "        self.value = self._sigmoid(self.inbound_nodes[0].value)\n",
    "\n",
    "    # derivative of sigmoid(x) is (1 - sigmoid(x)) * sigmoid(x)\n",
    "    def backward(self):\n",
    "        self.gradients = {n: np.zeros_like(n.value) for n in self.inbound_nodes}\n",
    "        for n in self.outbound_nodes:\n",
    "            grad = n.gradients[self]\n",
    "            self.gradients[self.inbound_nodes[0]] += (1 - self.value) * self.value * grad"
   ]
  },
  {
   "cell_type": "markdown",
   "metadata": {},
   "source": [
    "## Forward Pass\n",
    "\n",
    "The sigmoid function is\n",
    "\n",
    "$$\n",
    "f(x) = \\frac {1} {1 + e^{-x}}\n",
    "$$\n",
    "\n",
    "We implement that in the `_sigmoid` function and use it to perform the forward pass.\n",
    "\n",
    "\n",
    "## Backward Pass\n",
    "\n",
    "$$\n",
    "\\frac {\\partial f} {\\partial x} = \n",
    "(-1) \\frac {1} {(1+e^{-x})^2} (-1) e^{-x} = \n",
    "\\frac {e^{-x}} {(1+e^{-x})^2}\n",
    "$$\n",
    "\n",
    "You'll notice in the code we use `(1 - self.value) * self.value` as the final derivative. This part is not intuitive at all! We add and subtract 1 from the numerator, which is the same as adding 0. The funny thing is, with this small trick we can simplify the expression even further!\n",
    "\n",
    "$$\n",
    "\\frac {e^{-x}} {(1+e^{-x})^2} = \n",
    "\\frac {1} {1+e^{-x}} \\frac {e^{-x}} {1+e^{-x}} = \n",
    "\\frac {1} {1+e^{-x}} \\frac {e^{-x} + 1 - 1} {1+e^{-x}}\n",
    "$$\n",
    "\n",
    "$$\n",
    "\\frac {e^{-x} + 1 - 1} {1+e^{-x}} = \n",
    "\\frac {1 + e^{-x}} {1 + e^{-x}} - \\frac {1} {1 + e^{-x}} = \n",
    "1 - \\frac {1} {1 + e^{-x}}\n",
    "$$\n",
    "\n",
    "So the final result is \n",
    "\n",
    "$$\n",
    "\\frac {1} {1 + e^{-x}} (1 - \\frac {1} {1 + e^{-x}}) =\n",
    "f(x) (1 - f(x))\n",
    "$$"
   ]
  },
  {
   "cell_type": "code",
   "execution_count": null,
   "metadata": {
    "collapsed": true
   },
   "outputs": [],
   "source": []
  }
 ],
 "metadata": {
  "kernelspec": {
   "display_name": "Python 3",
   "language": "python",
   "name": "python3"
  },
  "language_info": {
   "codemirror_mode": {
    "name": "ipython",
    "version": 3
   },
   "file_extension": ".py",
   "mimetype": "text/x-python",
   "name": "python",
   "nbconvert_exporter": "python",
   "pygments_lexer": "ipython3",
   "version": "3.5.2"
  }
 },
 "nbformat": 4,
 "nbformat_minor": 1
}
